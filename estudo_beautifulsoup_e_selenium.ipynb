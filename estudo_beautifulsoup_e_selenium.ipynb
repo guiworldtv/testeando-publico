{
 "cells": [
  {
   "cell_type": "markdown",
   "id": "8264a739",
   "metadata": {},
   "source": [
    "# Documentações\n",
    "\n",
    "## BeautifulSoup\n",
    "https://www.crummy.com/software/BeautifulSoup/bs4/doc.ptbr/\n",
    "\n",
    "## Selenium\n",
    "https://selenium-python.readthedocs.io/"
   ]
  },
  {
   "cell_type": "code",
   "execution_count": 1,
   "id": "ca799e77",
   "metadata": {},
   "outputs": [
    {
     "name": "stdout",
     "output_type": "stream",
     "text": [
      "Collecting selenium\n",
      "  Downloading selenium-4.1.5-py3-none-any.whl (979 kB)\n",
      "Collecting trio-websocket~=0.9\n",
      "  Using cached trio_websocket-0.9.2-py3-none-any.whl (16 kB)\n",
      "Collecting urllib3[secure,socks]~=1.26\n",
      "  Downloading urllib3-1.26.9-py2.py3-none-any.whl (138 kB)\n",
      "Collecting trio~=0.17\n",
      "  Using cached trio-0.20.0-py3-none-any.whl (359 kB)\n",
      "Collecting outcome\n",
      "  Using cached outcome-1.1.0-py2.py3-none-any.whl (9.7 kB)\n",
      "Collecting sortedcontainers\n",
      "  Downloading sortedcontainers-2.4.0-py2.py3-none-any.whl (29 kB)\n",
      "Collecting idna\n",
      "  Using cached idna-3.3-py3-none-any.whl (61 kB)\n",
      "Collecting async-generator>=1.9\n",
      "  Downloading async_generator-1.10-py3-none-any.whl (18 kB)\n",
      "Collecting attrs>=19.2.0\n",
      "  Downloading attrs-21.4.0-py2.py3-none-any.whl (60 kB)\n",
      "Collecting cffi>=1.14\n",
      "  Using cached cffi-1.15.0-cp38-cp38-win_amd64.whl (179 kB)\n",
      "Collecting sniffio\n",
      "  Using cached sniffio-1.2.0-py3-none-any.whl (10 kB)\n",
      "Collecting pycparser\n",
      "  Using cached pycparser-2.21-py2.py3-none-any.whl (118 kB)\n",
      "Collecting wsproto>=0.14\n"
     ]
    },
    {
     "name": "stderr",
     "output_type": "stream",
     "text": [
      "WARNING: You are using pip version 21.1.1; however, version 22.0.4 is available.\n",
      "You should consider upgrading via the 'C:\\Users\\masilva11\\AppData\\Local\\Microsoft\\WindowsApps\\PythonSoftwareFoundation.Python.3.8_qbz5n2kfra8p0\\python.exe -m pip install --upgrade pip' command.\n"
     ]
    },
    {
     "name": "stdout",
     "output_type": "stream",
     "text": [
      "  Using cached wsproto-1.1.0-py3-none-any.whl (24 kB)\n",
      "Collecting PySocks!=1.5.7,<2.0,>=1.5.6\n",
      "  Downloading PySocks-1.7.1-py3-none-any.whl (16 kB)\n",
      "Collecting cryptography>=1.3.4\n",
      "  Downloading cryptography-37.0.2-cp36-abi3-win_amd64.whl (2.4 MB)\n",
      "Collecting certifi\n",
      "  Using cached certifi-2021.10.8-py2.py3-none-any.whl (149 kB)\n",
      "Collecting pyOpenSSL>=0.14\n",
      "  Downloading pyOpenSSL-22.0.0-py2.py3-none-any.whl (55 kB)\n",
      "Collecting h11<1,>=0.9.0\n",
      "  Using cached h11-0.13.0-py3-none-any.whl (58 kB)\n",
      "Installing collected packages: pycparser, cffi, attrs, sortedcontainers, sniffio, outcome, idna, h11, cryptography, async-generator, wsproto, urllib3, trio, PySocks, pyOpenSSL, certifi, trio-websocket, selenium\n",
      "Successfully installed PySocks-1.7.1 async-generator-1.10 attrs-21.4.0 certifi-2021.10.8 cffi-1.15.0 cryptography-37.0.2 h11-0.13.0 idna-3.3 outcome-1.1.0 pyOpenSSL-22.0.0 pycparser-2.21 selenium-4.1.5 sniffio-1.2.0 sortedcontainers-2.4.0 trio-0.20.0 trio-websocket-0.9.2 urllib3-1.26.9 wsproto-1.1.0\n"
     ]
    }
   ],
   "source": [
    "!pip install selenium\n",
    "\n",
    "## webdrivers do google chrome e firefox estão \"instalados\" na pasta \"C:\\Users\\masilva11\\Anaconda3\""
   ]
  },
  {
   "cell_type": "code",
   "execution_count": 2,
   "id": "5f54e26e",
   "metadata": {},
   "outputs": [
    {
     "name": "stderr",
     "output_type": "stream",
     "text": [
      "<ipython-input-2-9b2f31e04618>:7: DeprecationWarning: find_element_by_name is deprecated. Please use find_element(by=By.NAME, value=name) instead\n",
      "  elem = driver.find_element_by_name(\"q\")\n"
     ]
    }
   ],
   "source": [
    "from selenium import webdriver\n",
    "from selenium.webdriver.common.keys import Keys\n",
    "\n",
    "driver = webdriver.Firefox()    ## Instanciando.\n",
    "driver.get(\"http://www.python.org\")    ## Acessa.\n",
    "assert \"Python\" in driver.title\n",
    "elem = driver.find_element_by_name(\"q\")\n",
    "elem.clear()\n",
    "elem.send_keys(\"pycon\")\n",
    "elem.send_keys(Keys.RETURN)\n",
    "assert \"No results found.\" not in driver.page_source\n",
    "driver.close()    ## Fecha."
   ]
  },
  {
   "cell_type": "markdown",
   "id": "07e51a56",
   "metadata": {},
   "source": [
    "# Exercício 01\n",
    "\n",
    "Parte 1 - Web Scraping usando Python e Selenium - Extraçao de Dados Meteorológicos  -- https://www.youtube.com/watch?v=dNwFZbvLqnE\n",
    "\n",
    "Repositório GitHub -- https://github.com/RafaelDourado/Extra-o-de-Dados-Meteorol-gicos-com-Web-Sraping-usando-Python-e-Selenium\n",
    "\n",
    "#### Obs.: Fiz algumas modificações como: comentários, mudança dos nomes de variáveis, ordem de execução, importações e afins."
   ]
  },
  {
   "cell_type": "markdown",
   "id": "4c4176c4",
   "metadata": {},
   "source": [
    "## Arquivo 'bott.py'"
   ]
  },
  {
   "cell_type": "code",
   "execution_count": 28,
   "id": "e42751b2",
   "metadata": {},
   "outputs": [
    {
     "name": "stderr",
     "output_type": "stream",
     "text": [
      "<ipython-input-28-f36c82c282d4>:43: DeprecationWarning: find_element_by_xpath is deprecated. Please use find_element(by=By.XPATH, value=xpath) instead\n",
      "  input = driver.find_element_by_xpath('//*[@id=\"searchGeneral\"]')\n",
      "<ipython-input-28-f36c82c282d4>:50: DeprecationWarning: find_element_by_xpath is deprecated. Please use find_element(by=By.XPATH, value=xpath) instead\n",
      "  var = driver.find_element_by_xpath('//*[@id=\"searchGeneral_autocomplete\"]')\n",
      "c:\\Users\\masilva11\\Anaconda3\\lib\\site-packages\\selenium\\webdriver\\remote\\webelement.py:393: UserWarning: find_element_by_xpath is deprecated. Please use find_element(by=By.XPATH, value=xpath) instead\n",
      "  warnings.warn(\"find_element_by_xpath is deprecated. Please use find_element(by=By.XPATH, value=xpath) instead\")\n",
      "<ipython-input-28-f36c82c282d4>:55: DeprecationWarning: find_element_by_xpath is deprecated. Please use find_element(by=By.XPATH, value=xpath) instead\n",
      "  var2 = driver.find_element_by_xpath('//*[@id=\"mainContent\"]/div[4]/div[5]/div[1]/div[2]/div[2]/div[2]/div[1]/ul')\n"
     ]
    },
    {
     "name": "stdout",
     "output_type": "stream",
     "text": [
      "21°\n"
     ]
    }
   ],
   "source": [
    "from selenium.webdriver.common.keys import Keys\n",
    "from collections import Counter as cnt\n",
    "from selenium import webdriver\n",
    "from datetime import datetime\n",
    "import time\n",
    "import json\n",
    "import re\n",
    "import os\n",
    "\n",
    "############ ANOTAÇÕES\n",
    "\n",
    "# 1. Acessar o site; -- DONE\n",
    "# 2. Clicar na barra de pesquisa; -- DONE\n",
    "# 3. Digitar a cidade desejada; -- DONE\n",
    "# 4. Clicar na primeira cidade (Sugestão droplist); -- DONE\n",
    "# 5. Iniciar a extração dos dados;\n",
    "\n",
    "# Dados a serem extraídos:\n",
    "#     > Cidade;\n",
    "#     > Data;\n",
    "#     > Temperatura (Min e Máx);\n",
    "#     > Chuva (Volume e porcentagem);\n",
    "#     > Vento (velocidade);\n",
    "#     > Umidade (Min e Máx);\n",
    "#     > Sol (Horário de Nasc. e horário por do sol).\n",
    "\n",
    "######################\n",
    "\n",
    "capitais = ['Rio Branco', 'Maceió', 'Macapá', 'Manaus', 'Salvador', 'Fortaleza', 'Brasília', 'Vitória', 'Goiânia', 'São Luís',\n",
    "'Cuiabá', 'Campo Grande', 'Belo Horizonte', 'Belém', 'João Pessoa', 'Curitiba', 'Recife','Pernambuco',\n",
    "'Teresina', 'Rio de Janeiro','Natal', 'Porto Alegre', 'Porto Velho', 'Boa Vista', 'Florianópolis', 'São Paulo', 'Aracaju', 'Palmas']\n",
    "\n",
    "\n",
    "## Executando WebDriver.\n",
    "driver = webdriver.Firefox()\n",
    "\n",
    "# 1. Acessando site.\n",
    "site = 'https://www.climatempo.com.br/previsao-do-tempo?page=AGORA'\n",
    "driver.get(site)\n",
    "time.sleep(10) # driver.implicitly_wait(20)\n",
    "\n",
    "# 2. Clicando na barra de pesquisa;\n",
    "input = driver.find_element_by_xpath('//*[@id=\"searchGeneral\"]')\n",
    "\n",
    "# 3. Digitando a cidade desejada;\n",
    "input.send_keys(capitais[0])\n",
    "time.sleep(5) # driver.implicitly_wait(5)\n",
    "\n",
    "# 4. Clicado na primeira cidade;\n",
    "var = driver.find_element_by_xpath('//*[@id=\"searchGeneral_autocomplete\"]')\n",
    "var.find_element_by_xpath('//*[@id=\"searchGeneral_autocomplete\"]/li[2]/a').click()\n",
    "\n",
    "# 5. Iniciar a extração dos dados;\n",
    "# from bs4 import BeautifulSoup\n",
    "var2 = driver.find_element_by_xpath('//*[@id=\"mainContent\"]/div[4]/div[5]/div[1]/div[2]/div[2]/div[2]/div[1]/ul')\n",
    "# print(var2)\n",
    "# print(type(var2))\n",
    "\n",
    "from bs4 import BeautifulSoup\n",
    "import requests\n",
    "\n",
    "\n",
    "\n",
    "driver.close()"
   ]
  },
  {
   "cell_type": "markdown",
   "id": "33d65122",
   "metadata": {},
   "source": [
    "<img src = 'climaTempo.jpg'>"
   ]
  },
  {
   "cell_type": "code",
   "execution_count": 27,
   "id": "ffe6b5c6",
   "metadata": {},
   "outputs": [
    {
     "name": "stdout",
     "output_type": "stream",
     "text": [
      "Temperatura:\n",
      "Mín: 14° Máx: 22° Chuva:\n",
      "Volumne: 0mm -\n",
      "0% Vento:\n",
      "Direção: \n",
      "\n",
      "ESE\n",
      "-\n",
      "16km/h\n",
      ", Velocidade: \n",
      "\n",
      "ESE\n",
      "-\n",
      "16km/h\n",
      " Umidade:\n",
      "Mín: \n",
      "\n",
      "\n",
      "56%\n",
      "\n",
      "89%\n",
      "\n",
      " Máx: \n",
      "\n",
      "\n",
      "56%\n",
      "\n",
      "89%\n",
      "\n",
      " Sol:\n",
      "Início: \n",
      "Sol\n",
      "\n",
      "06:30h\n",
      "\n",
      "17:35h\n",
      "\n",
      " Fim: \n",
      "Sol\n",
      "\n",
      "06:30h\n",
      "\n",
      "17:35h\n",
      "\n",
      "\n"
     ]
    }
   ],
   "source": [
    "from bs4 import BeautifulSoup\n",
    "import requests\n",
    "\n",
    "## TODO\n",
    "# > Melhorar a separação das divs e extração dos dados;\n",
    "# > Fazer a limpeza/extração dos dados.\n",
    "\n",
    "req = requests.get('https://www.climatempo.com.br/previsao-do-tempo/cidade/558/saopaulo-sp?')\n",
    "sitee = BeautifulSoup(req.content, 'html.parser')\n",
    "\n",
    "listaDados = sitee.find('ul', attrs = {'class': 'variables-list'})\n",
    "# print(listaDados.prettify())\n",
    "\n",
    "temp_min = listaDados.find('span', attrs = {'class': '-gray-light'}, id=\"min-temp-1\")    ## Temp. mínima.\n",
    "temp_max = listaDados.find('span', attrs = {'class': '-gray-light'}, id=\"max-temp-1\")    ## Temp. máxima.\n",
    "# print(temp_min.text, temp_max.text)\n",
    "\n",
    "volume_chuva = listaDados.find('span', attrs = {'class': '_margin-l-5'}).text\n",
    "# print(volume_chuva)\n",
    "\n",
    "ventoAAA = listaDados.findAll('div', attrs = {'class': '_flex'})\n",
    "vento = ventoAAA[2].text ## VENTO\n",
    "umidade = ventoAAA[3].text ## UMIDADE\n",
    "\n",
    "hora_sol = listaDados.findAll('li', attrs = {'class': 'item'})[4]\n",
    "# print(hora_sol.text)\n",
    "\n",
    "print(f'Temperatura:\\nMín: {temp_min.text} Máx: {temp_max.text}',\n",
    "    f'Chuva:\\nVolumne: {volume_chuva}',\n",
    "    f'Vento:\\nDireção: {vento}, Velocidade: {vento}',\n",
    "    f'Umidade:\\nMín: {umidade} Máx: {umidade}',\n",
    "    f'Sol:\\nInício: {hora_sol.text} Fim: {hora_sol.text}')"
   ]
  },
  {
   "cell_type": "code",
   "execution_count": null,
   "id": "b29e2853",
   "metadata": {},
   "outputs": [],
   "source": [
    "# class newbot:\n",
    "\n",
    "#     def __init__(self, nome_bot):\n",
    "#         self.driver = webdriver.Firefox()    ## Abre o navegador via bot.\n",
    "\n",
    "#     def climaTempo(self):\n",
    "#         try:\n",
    "\n",
    "            ## Configuração de bot.\n",
    "#             site  = 'https://www.climatempo.com.br'    ## Site que será aberto.\n",
    "#             self.driver.get(site)    ## Acessando o site.\n",
    "#             self.driver.implicitly_wait(20)    ## Esperando a página carregar.\n",
    "\n",
    "#             i = 0\n",
    "#             while True:\n",
    "#                 estado=11\n",
    "#                 cidades = [70,217] \n",
    "\n",
    "#                 #11 = Minas Gerais\n",
    "#                 #70 = Belo Horizonte, 217 = Contagem\n",
    "\n",
    "#                 self.driver.find_element_by_xpath('//*[@id=\"momento-localidade\"]').click()\n",
    "#                 self.driver.find_element_by_xpath('/html/body/div[7]/select[1]/option[' + str(estado) + ']').click()\n",
    "#                 self.driver.find_element_by_xpath('/html/body/div[7]/select[2]/option[' + str(cidades[i]) + ']').click()\n",
    "#                 self.driver.find_element_by_xpath('//*[@id=\"btn-confirm-geo\"]').click() \n",
    "\n",
    "#                 time.sleep(20)\n",
    "\n",
    "#                 localidade = self.driver.find_element_by_xpath('//*[@id=\"momento-localidade\"]').text\n",
    "#                 temperatura = self.driver.find_element_by_xpath('//*[@id=\"momento-temperatura\"]').text\n",
    "#                 condicao = self.driver.find_element_by_xpath('//*[@id=\"momento-condicao\"]').text\n",
    "#                 sensacao = self.driver.find_element_by_xpath('//*[@id=\"momento-sensacao\"]').text\n",
    "#                 humidade = self.driver.find_element_by_xpath('//*[@id=\"momento-humidade\"]').text\n",
    "#                 pressao = self.driver.find_element_by_xpath('//*[@id=\"momento-pressao\"]').text\n",
    "#                 velocVento = self.driver.find_element_by_xpath('//*[@id=\"momento-vento\"]').text\n",
    "#                 ultimaAtualizacao = self.driver.find_element_by_xpath('//*[@id=\"momento-atualizacao\"]').text\n",
    "\n",
    "#                 dat = datetime.now().strftime(\"%Y-%m-%d %H:%M:%S\")\n",
    "\n",
    "#                 print(\"Localidade: \" + localidade)\n",
    "#                 print(\"Temperatura: \" + temperatura)\n",
    "#                 print(\"Condição: \" + condicao)\n",
    "#                 print(\"Sensação Termica: \" + sensacao)\n",
    "#                 print(\"Humidade: \" + humidade)\n",
    "#                 print(\"Pressão: \" + pressao)\n",
    "#                 print(\"Velocidade do Vento: \" + velocVento)\n",
    "#                 print(\"Ultima Atualização Clima Tempo: \" + ultimaAtualizacao)\n",
    "#                 print(\"Data da Consulta: \" + dat)\n",
    "#                 print('-----------------------------')\n",
    "\n",
    "#                 time.sleep(10)\n",
    "\n",
    "#                 dados = localidade + ';' + temperatura + ';' + condicao + ';' + sensacao + ';' + humidade + ';' + pressao + ';' + velocVento  + ';' + ultimaAtualizacao + ';' + dat\n",
    "#                 self.salvaDados(dados)\n",
    "\n",
    "#                 i+=1\n",
    "#                 if(i>1):\n",
    "#                     i=0\n",
    "#         except:\n",
    "#             self.driver.close()\n",
    "#             self.erro()\n",
    "\n",
    "\n",
    "#     def erro(self):\n",
    "#          self.climaTempo()\n",
    "\n",
    "#     def salvaDados(self, dados):\n",
    "#         datt = datetime.now().date().strftime(\"%Y-%m-%d\")\n",
    "#         arquivo = open('C:/Users/rafael.dourado/Desktop/ClimaTempo/Dados - ' + datt + '.txt', 'a')\n",
    "#         arquivo.write(dados + '\\n')\n",
    "#         arquivo.close()"
   ]
  },
  {
   "cell_type": "markdown",
   "id": "be84ceeb",
   "metadata": {},
   "source": [
    "## Arquivo 'main.py'"
   ]
  },
  {
   "cell_type": "code",
   "execution_count": null,
   "id": "3148366a",
   "metadata": {},
   "outputs": [],
   "source": [
    "import re\n",
    "from bott import newbot\n",
    "\n",
    "bott = newbot('roboClimaTempo')\n",
    "\n",
    "bott.climaTempo()"
   ]
  },
  {
   "cell_type": "markdown",
   "id": "2a7b5196",
   "metadata": {},
   "source": [
    "# Desenvolvimento \"sem rodinhas\""
   ]
  }
 ],
 "metadata": {
  "interpreter": {
   "hash": "a2c3c914b443cff0ad5844b70701a1d0a1f2dcfd87de27d77166d6c0ad930e9d"
  },
  "kernelspec": {
   "display_name": "Python 3.8.8 ('base')",
   "language": "python",
   "name": "python3"
  },
  "language_info": {
   "codemirror_mode": {
    "name": "ipython",
    "version": 3
   },
   "file_extension": ".py",
   "mimetype": "text/x-python",
   "name": "python",
   "nbconvert_exporter": "python",
   "pygments_lexer": "ipython3",
   "version": "3.8.8"
  }
 },
 "nbformat": 4,
 "nbformat_minor": 5
}
